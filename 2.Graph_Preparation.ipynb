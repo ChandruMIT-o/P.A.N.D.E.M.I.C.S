{
 "cells": [
  {
   "cell_type": "code",
   "execution_count": 9,
   "metadata": {},
   "outputs": [],
   "source": [
    "import pandas as pd\n",
    "import numpy as np\n",
    "import networkx as nx\n",
    "import pickle\n",
    "from sklearn.neighbors import NearestNeighbors\n",
    "import random"
   ]
  },
  {
   "cell_type": "markdown",
   "metadata": {},
   "source": [
    "### **Step 7: Load DownSampled Data**"
   ]
  },
  {
   "cell_type": "code",
   "execution_count": 3,
   "metadata": {},
   "outputs": [],
   "source": [
    "RoadNetwork = pd.read_csv('derived_data/downsampled_road_network.csv')\n",
    "airports = pd.read_csv('derived_data/processed_airports.csv')"
   ]
  },
  {
   "cell_type": "markdown",
   "metadata": {},
   "source": [
    "### **Step 8: Graph Creation**"
   ]
  },
  {
   "cell_type": "code",
   "execution_count": 4,
   "metadata": {},
   "outputs": [
    {
     "name": "stdout",
     "output_type": "stream",
     "text": [
      "Creating graph from scratch...\n"
     ]
    }
   ],
   "source": [
    "GRAPH_FILE = 'derived_data/road_airport_graph.pkl'\n",
    "\n",
    "k_road = 10  # Number of nearest neighbors for road-to-road connections\n",
    "k_airport = 5  # Number of nearest neighbors for road-to-airport connections\n",
    "\n",
    "# Build graph if no saved file exists\n",
    "print(\"Creating graph from scratch...\")\n",
    "G = nx.Graph()\n",
    "\n",
    "# Add road network nodes\n",
    "for i, row in RoadNetwork.iterrows():\n",
    "    G.add_node(i, pos=(row['X'], row['Y']), population=row['population_density'])"
   ]
  },
  {
   "cell_type": "markdown",
   "metadata": {},
   "source": [
    "#### --- Connect road-to-road nodes using k-nearest neighbors ---"
   ]
  },
  {
   "cell_type": "code",
   "execution_count": 5,
   "metadata": {},
   "outputs": [
    {
     "name": "stdout",
     "output_type": "stream",
     "text": [
      "Connecting road nodes using k-nearest neighbors...\n"
     ]
    }
   ],
   "source": [
    "road_coords = RoadNetwork[['X', 'Y']].values\n",
    "nbrs_road = NearestNeighbors(n_neighbors=k_road + 1, algorithm='ball_tree').fit(road_coords)\n",
    "distances, indices = nbrs_road.kneighbors(road_coords)\n",
    "\n",
    "print(\"Connecting road nodes using k-nearest neighbors...\")\n",
    "for i, neighbors in enumerate(indices):\n",
    "    for j in neighbors[1:]:  # Exclude the node itself\n",
    "        G.add_edge(i, j, weight=0.5)"
   ]
  },
  {
   "cell_type": "markdown",
   "metadata": {},
   "source": [
    "#### --- Connect road-to-airport nodes using k-nearest neighbors ---"
   ]
  },
  {
   "cell_type": "code",
   "execution_count": 6,
   "metadata": {},
   "outputs": [
    {
     "name": "stdout",
     "output_type": "stream",
     "text": [
      "Connecting road-to-airport nodes...\n"
     ]
    }
   ],
   "source": [
    "# Add airport nodes\n",
    "airport_start = len(RoadNetwork)\n",
    "for i, airport in airports.iterrows():\n",
    "    G.add_node(airport_start + i, pos=(airport['lon'], airport['lat']), population=airport['population_density'])\n",
    "\n",
    "# --- Connect road-to-airport nodes using k-nearest neighbors ---\n",
    "print(\"Connecting road-to-airport nodes...\")\n",
    "all_coords = np.vstack((road_coords, airports[['lon', 'lat']].values))\n",
    "road_airport_indices = range(len(road_coords), len(all_coords))\n",
    "nbrs_airport = NearestNeighbors(n_neighbors=k_airport, algorithm='ball_tree').fit(all_coords)\n",
    "\n",
    "for i in road_airport_indices:  # Iterate over airport indices\n",
    "    distances, neighbors = nbrs_airport.kneighbors([all_coords[i]])\n",
    "    for j in neighbors[0]:\n",
    "        if j < len(road_coords):  # Only connect airports to road nodes\n",
    "            G.add_edge(i, j, weight=1)"
   ]
  },
  {
   "cell_type": "markdown",
   "metadata": {},
   "source": [
    "#### --- Connect airport-to-airport nodes using random sparse creation ---"
   ]
  },
  {
   "cell_type": "code",
   "execution_count": 7,
   "metadata": {},
   "outputs": [
    {
     "name": "stdout",
     "output_type": "stream",
     "text": [
      "Connecting airport nodes (fully connected, removing 80% of edges)...\n",
      "Removing 29464 edges out of 30066 total edges.\n",
      "Graph created and saved.\n"
     ]
    }
   ],
   "source": [
    "print(\"Connecting airport nodes (fully connected, removing 80% of edges)...\")\n",
    "airport_coords = airports[['lon', 'lat']].values\n",
    "num_airports = len(airport_coords)\n",
    "\n",
    "# Step 1: Fully connect all airport nodes\n",
    "airport_indices = range(airport_start, airport_start + num_airports)\n",
    "for i in airport_indices:\n",
    "    for j in airport_indices:\n",
    "        if i != j:  # Avoid self-loops\n",
    "            G.add_edge(i, j, weight=1)\n",
    "\n",
    "# Step 2: Remove 80% of the edges randomly\n",
    "all_airport_edges = list(G.edges(airport_indices))  # Get all edges involving airports\n",
    "edges_to_remove = random.sample(all_airport_edges, int(0.98 * len(all_airport_edges)))\n",
    "\n",
    "print(f\"Removing {len(edges_to_remove)} edges out of {len(all_airport_edges)} total edges.\")\n",
    "G.remove_edges_from(edges_to_remove)\n",
    "\n",
    "# Save graph for future runs\n",
    "with open(GRAPH_FILE, 'wb') as f:\n",
    "    pickle.dump(G, f)\n",
    "print(\"Graph created and saved.\")"
   ]
  },
  {
   "cell_type": "markdown",
   "metadata": {},
   "source": [
    "### **Step 9: Graph Evaluation**"
   ]
  },
  {
   "cell_type": "code",
   "execution_count": 8,
   "metadata": {},
   "outputs": [
    {
     "name": "stdout",
     "output_type": "stream",
     "text": [
      "Graph Connectivity Metrics:\n",
      "Average Degree: 10.63\n",
      "Density: 0.003873\n",
      "Average Clustering Coefficient: 0.4991\n",
      "Graph is not fully connected.\n",
      "Number of Connected Components: 3\n"
     ]
    }
   ],
   "source": [
    "def measure_graph_connectivity(G):\n",
    "    # Average Degree\n",
    "    degrees = [degree for _, degree in G.degree()]\n",
    "    avg_degree = sum(degrees) / len(degrees)\n",
    "    \n",
    "    # Graph Density\n",
    "    density = nx.density(G)\n",
    "    \n",
    "    # Clustering Coefficient\n",
    "    avg_clustering = nx.average_clustering(G)\n",
    "    \n",
    "    # Average Shortest Path Length (only for connected graphs)\n",
    "    if nx.is_connected(G):\n",
    "        avg_shortest_path = nx.average_shortest_path_length(G)\n",
    "    else:\n",
    "        avg_shortest_path = None  # Not connected\n",
    "    \n",
    "    # Number of Connected Components\n",
    "    num_connected_components = nx.number_connected_components(G)\n",
    "    \n",
    "    # Print results\n",
    "    print(\"Graph Connectivity Metrics:\")\n",
    "    print(f\"Average Degree: {avg_degree:.2f}\")\n",
    "    print(f\"Density: {density:.6f}\")\n",
    "    print(f\"Average Clustering Coefficient: {avg_clustering:.4f}\")\n",
    "    if avg_shortest_path:\n",
    "        print(f\"Average Shortest Path Length: {avg_shortest_path:.2f}\")\n",
    "    else:\n",
    "        print(\"Graph is not fully connected.\")\n",
    "    print(f\"Number of Connected Components: {num_connected_components}\")\n",
    "\n",
    "# Call the function\n",
    "measure_graph_connectivity(G)"
   ]
  }
 ],
 "metadata": {
  "kernelspec": {
   "display_name": "AllPackages",
   "language": "python",
   "name": "python3"
  },
  "language_info": {
   "codemirror_mode": {
    "name": "ipython",
    "version": 3
   },
   "file_extension": ".py",
   "mimetype": "text/x-python",
   "name": "python",
   "nbconvert_exporter": "python",
   "pygments_lexer": "ipython3",
   "version": "3.11.9"
  }
 },
 "nbformat": 4,
 "nbformat_minor": 2
}
